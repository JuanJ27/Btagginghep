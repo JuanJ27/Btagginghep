{
 "cells": [
  {
   "cell_type": "code",
   "execution_count": 5,
   "id": "8aa4a641",
   "metadata": {},
   "outputs": [],
   "source": [
    "import uproot\n",
    "import numpy as np\n",
    "\n",
    "# Abrir el archivo ROOT\n",
    "file = uproot.open(\"/home/juan/Btagginghep/V1/TrackZbbpT5/plots/histograms.root\")\n",
    "\n",
    "# Lista para almacenar los datos de los histogramas\n",
    "data = {}\n",
    "\n",
    "# Leer histogramas 1D (TH1F)\n",
    "for i in range(4):\n",
    "    # Ejemplo: hJetPT[0], hJetPT[1], ..., hJetPT[3]\n",
    "    hist_name = f\"hJetPT{i};1\"\n",
    "    hist = file[hist_name]\n",
    "    values, bins = hist.values(), hist.axis().edges()\n",
    "    data[hist_name] = values  # Guardar los valores del histograma\n",
    "    data[f\"{hist_name}_bins\"] = bins  # Guardar los bordes de los bins\n",
    "\n",
    "# Leer histogramas 2D (TH2F)\n",
    "for i in range(4):\n",
    "    hist_name = f\"hPT_vs_Eta{i};1\"\n",
    "    hist = file[hist_name]\n",
    "    values, x_bins, y_bins = hist.values(), hist.axis(0).edges(), hist.axis(1).edges()\n",
    "    data[hist_name] = values  # Matriz 2D de valores\n",
    "    data[f\"{hist_name}_x_bins\"] = x_bins\n",
    "    data[f\"{hist_name}_y_bins\"] = y_bins\n",
    "\n",
    "# Guardar los datos en un archivo .npy para usarlos después\n",
    "np.save(\"histogram_data.npy\", data)"
   ]
  },
  {
   "cell_type": "code",
   "execution_count": 6,
   "id": "b97dbe5a",
   "metadata": {},
   "outputs": [
    {
     "name": "stdout",
     "output_type": "stream",
     "text": [
      "tensor([[0.7329, 0.0477, 0.4940],\n",
      "        [0.8558, 0.8229, 0.9390],\n",
      "        [0.6406, 0.1176, 0.8339],\n",
      "        [0.3789, 0.7127, 0.1677],\n",
      "        [0.9232, 0.6556, 0.2368]])\n",
      "False\n"
     ]
    }
   ],
   "source": [
    "import torch\n",
    "x = torch.rand(5, 3)\n",
    "print(x)\n",
    "print(torch.cuda.is_available())"
   ]
  }
 ],
 "metadata": {
  "kernelspec": {
   "display_name": "venv",
   "language": "python",
   "name": "python3"
  },
  "language_info": {
   "codemirror_mode": {
    "name": "ipython",
    "version": 3
   },
   "file_extension": ".py",
   "mimetype": "text/x-python",
   "name": "python",
   "nbconvert_exporter": "python",
   "pygments_lexer": "ipython3",
   "version": "3.11.2"
  }
 },
 "nbformat": 4,
 "nbformat_minor": 5
}
